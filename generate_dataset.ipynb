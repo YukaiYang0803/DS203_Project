{
 "cells": [
  {
   "cell_type": "code",
   "execution_count": 11,
   "metadata": {},
   "outputs": [
    {
     "ename": "ModuleNotFoundError",
     "evalue": "No module named 'bs4'",
     "output_type": "error",
     "traceback": [
      "\u001b[0;31m---------------------------------------------------------------------------\u001b[0m",
      "\u001b[0;31mModuleNotFoundError\u001b[0m                       Traceback (most recent call last)",
      "\u001b[1;32m/Users/tracy_zhu/Documents/GitHub/DS203_Project/generate_dataset.ipynb Cell 1'\u001b[0m in \u001b[0;36m<cell line: 2>\u001b[0;34m()\u001b[0m\n\u001b[1;32m      <a href='vscode-notebook-cell:/Users/tracy_zhu/Documents/GitHub/DS203_Project/generate_dataset.ipynb#ch0000000?line=0'>1</a>\u001b[0m \u001b[39mimport\u001b[39;00m \u001b[39mrequests\u001b[39;00m\n\u001b[0;32m----> <a href='vscode-notebook-cell:/Users/tracy_zhu/Documents/GitHub/DS203_Project/generate_dataset.ipynb#ch0000000?line=1'>2</a>\u001b[0m \u001b[39mfrom\u001b[39;00m \u001b[39mbs4\u001b[39;00m \u001b[39mimport\u001b[39;00m BeautifulSoup\n\u001b[1;32m      <a href='vscode-notebook-cell:/Users/tracy_zhu/Documents/GitHub/DS203_Project/generate_dataset.ipynb#ch0000000?line=2'>3</a>\u001b[0m \u001b[39mimport\u001b[39;00m \u001b[39mpandas\u001b[39;00m \u001b[39mas\u001b[39;00m \u001b[39mpd\u001b[39;00m\n\u001b[1;32m      <a href='vscode-notebook-cell:/Users/tracy_zhu/Documents/GitHub/DS203_Project/generate_dataset.ipynb#ch0000000?line=3'>4</a>\u001b[0m \u001b[39mimport\u001b[39;00m \u001b[39mjson\u001b[39;00m\n",
      "\u001b[0;31mModuleNotFoundError\u001b[0m: No module named 'bs4'"
     ]
    }
   ],
   "source": [
    "import requests\n",
    "from bs4 import BeautifulSoup\n",
    "import pandas as pd\n",
    "import json\n",
    "import random\n",
    "from IPython.display import clear_output\n",
    "import os.path"
   ]
  },
  {
   "cell_type": "code",
   "execution_count": 82,
   "metadata": {},
   "outputs": [
    {
     "data": {
      "text/html": [
       "<div>\n",
       "<style scoped>\n",
       "    .dataframe tbody tr th:only-of-type {\n",
       "        vertical-align: middle;\n",
       "    }\n",
       "\n",
       "    .dataframe tbody tr th {\n",
       "        vertical-align: top;\n",
       "    }\n",
       "\n",
       "    .dataframe thead th {\n",
       "        text-align: right;\n",
       "    }\n",
       "</style>\n",
       "<table border=\"1\" class=\"dataframe\">\n",
       "  <thead>\n",
       "    <tr style=\"text-align: right;\">\n",
       "      <th></th>\n",
       "      <th>0</th>\n",
       "    </tr>\n",
       "  </thead>\n",
       "  <tbody>\n",
       "    <tr>\n",
       "      <th>0</th>\n",
       "      <td>entomology</td>\n",
       "    </tr>\n",
       "    <tr>\n",
       "      <th>1</th>\n",
       "      <td>hirsute</td>\n",
       "    </tr>\n",
       "    <tr>\n",
       "      <th>2</th>\n",
       "      <td>cadence</td>\n",
       "    </tr>\n",
       "    <tr>\n",
       "      <th>3</th>\n",
       "      <td>ample</td>\n",
       "    </tr>\n",
       "    <tr>\n",
       "      <th>4</th>\n",
       "      <td>circumspect</td>\n",
       "    </tr>\n",
       "    <tr>\n",
       "      <th>...</th>\n",
       "      <td>...</td>\n",
       "    </tr>\n",
       "    <tr>\n",
       "      <th>995</th>\n",
       "      <td>equanimity</td>\n",
       "    </tr>\n",
       "    <tr>\n",
       "      <th>996</th>\n",
       "      <td>pronate</td>\n",
       "    </tr>\n",
       "    <tr>\n",
       "      <th>997</th>\n",
       "      <td>swear-word</td>\n",
       "    </tr>\n",
       "    <tr>\n",
       "      <th>998</th>\n",
       "      <td>jettatura</td>\n",
       "    </tr>\n",
       "    <tr>\n",
       "      <th>999</th>\n",
       "      <td>hermeneutics</td>\n",
       "    </tr>\n",
       "  </tbody>\n",
       "</table>\n",
       "<p>1000 rows × 1 columns</p>\n",
       "</div>"
      ],
      "text/plain": [
       "                0\n",
       "0      entomology\n",
       "1         hirsute\n",
       "2         cadence\n",
       "3           ample\n",
       "4     circumspect\n",
       "..            ...\n",
       "995    equanimity\n",
       "996       pronate\n",
       "997    swear-word\n",
       "998     jettatura\n",
       "999  hermeneutics\n",
       "\n",
       "[1000 rows x 1 columns]"
      ]
     },
     "execution_count": 82,
     "metadata": {},
     "output_type": "execute_result"
    }
   ],
   "source": [
    "length = 1000\n",
    "headers = ['word', 'sen1', 'sen2', 'sen3', 'choice1', 'choice2', 'choice3']\n",
    "url = 'https://sentence.yourdictionary.com/'"
   ]
  },
  {
   "cell_type": "code",
   "execution_count": null,
   "metadata": {},
   "outputs": [],
   "source": [
    "def get_progress(data):\n",
    "    for i in data.index:\n",
    "#        if data['sen1'][i]==None:\n",
    "        if (type(data['sen1'][i])==float) or (data['sen1'][i]==None):\n",
    "            return i"
   ]
  },
  {
   "cell_type": "code",
   "execution_count": null,
   "metadata": {},
   "outputs": [],
   "source": [
    "def read_raw(url='https://sentence.yourdictionary.com/',length=1000):\n",
    "    df = pd.read_csv('data_raw.csv', on_bad_lines='skip', header=None,sep='\\t')\n",
    "    data = df.T.head(1).T\n",
    "    data = data.replace({'<br>': ''},regex=True)\n",
    "    data = data[data[0].str.contains(' ')==False]\n",
    "    data = data.sample(n=length, random_state=2022).reset_index(drop=True)\n",
    "    data['sen1'] = None\n",
    "    data['sen2'] = None\n",
    "    data['sen3'] = None\n",
    "    data['choice1'] = None\n",
    "    data['choice2'] = None\n",
    "    data['choice3'] = None\n",
    "    data = data.rename(columns={0:'word'})\n",
    "    data.head()\n",
    "    return data"
   ]
  },
  {
   "cell_type": "code",
   "execution_count": null,
   "metadata": {},
   "outputs": [],
   "source": [
    "def read_sentence(word,url = 'https://sentence.yourdictionary.com/'):\n",
    "    page = requests.get(url+word)\n",
    "    soup = BeautifulSoup(page.content,'html.parser')\n",
    "    sentences = soup.find_all('span', {'class':\"sentence-item__text\"})\n",
    "    #meaning = soup.find_all('div', {'class':\"definition flex-align-self-center\"})\n",
    "    sens = []\n",
    "    print('--------')\n",
    "    print(f'Current word: {word}')\n",
    "    for sen in sentences:\n",
    "        sen = str(sen).split('\"\">')[1].split('</span>')[0].replace('<mark>','').replace('</mark>','')\n",
    "        print(sen)\n",
    "        passed = input('Do you want to use this sentence? Type y or n: ')\n",
    "        if passed == 'y':\n",
    "            sens.append(sen)\n",
    "        if len(sens) == 3:\n",
    "            break\n",
    "        print()\n",
    "    clear_output()    \n",
    "    return sens\n",
    "    \n",
    "def ask_for_choice(word):\n",
    "    print(f'The word is {word}. Please enter 3 other words:\\n')\n",
    "    word1 = input('Word 1: ')\n",
    "    word2 = input('Word 2: ')\n",
    "    word3 = input('Word 3: ')\n",
    "    choices = [word,word1,word2,word3]\n",
    "    random.Random(2022).shuffle(choices)\n",
    "    clear_output()\n",
    "    return choices"
   ]
  },
  {
   "cell_type": "code",
   "execution_count": null,
   "metadata": {},
   "outputs": [],
   "source": [
    "def build_word(data, i, url = 'https://sentence.yourdictionary.com/'):\n",
    "    sent = read_sentence(data['word'][i])\n",
    "    if len(sent) == 0:\n",
    "        data = data.drop(i)\n",
    "        data = data.reset_index(drop=True)\n",
    "    else:\n",
    "        data['sen1'][i] = sent[0]\n",
    "        data['sen2'][i] = sent[1]\n",
    "        data['sen3'][i] = sent[2]\n",
    "        c = ask_for_choice(data['word'][i])\n",
    "        data['choice1'][i] = c[1]\n",
    "        data['choice2'][i] = c[2]\n",
    "        data['choice3'][i] = c[3]\n",
    "    return data"
   ]
  },
  {
   "cell_type": "code",
   "execution_count": 2,
   "metadata": {},
   "outputs": [],
   "source": [
    "def main():\n",
    "    if os.path.isfile('data.csv'): # if there is record\n",
    "        print('Start with progress')\n",
    "        data = pd.read_csv('data.csv', index_col=0)\n",
    "        data = data.reset_index(drop=True)\n",
    "    else: # if there is no previous record\n",
    "        print('Start from scratch')\n",
    "        data = read_raw()\n",
    "    flag = True\n",
    "    while flag:\n",
    "        passed = input('Do you want to continue? y or n: ')\n",
    "        if passed == 'y':\n",
    "            i = get_progress(data)\n",
    "            data = build_word(data, i)\n",
    "            data.to_csv('data.csv')\n",
    "        else:\n",
    "            flag = False"
   ]
  },
  {
   "cell_type": "code",
   "execution_count": 105,
   "metadata": {},
   "outputs": [],
   "source": [
    "def build_dataset(words,url='https://sentence.yourdictionary.com/',length=1000):\n",
    "    dataset_dict = {}\n",
    "    for word in words[0]:\n",
    "        sentences = read_sentence(word)\n",
    "        if len(sentences) == 0:\n",
    "            continue\n",
    "        choices = ask_for_choice(word)\n",
    "        dataset_dict[word] = {'sentences':sentences,'choices':choices}\n",
    "        if len(dataset_dict) > length:\n",
    "            break\n",
    "    return dataset_dict\n",
    "\n",
    "def read_sentence(word,url = 'https://sentence.yourdictionary.com/'):\n",
    "    page = requests.get(url+word)\n",
    "    soup = BeautifulSoup(page.content,'html.parser')\n",
    "    sentences = soup.find_all('span', {'class':\"sentence-item__text\"})\n",
    "    #meaning = soup.find_all('div', {'class':\"definition flex-align-self-center\"})\n",
    "    sens = {}\n",
    "    idx = 0\n",
    "    print('--------')\n",
    "    print(f'Current word: {word}')\n",
    "    for sen in sentences:\n",
    "        sen = str(sen).split('\"\">')[1].split('</span>')[0].replace('<mark>','').replace('</mark>','')\n",
    "        print(sen)\n",
    "        passed = input('Do you want to use this sentence? Type y or n: ')\n",
    "        if passed == 'y':\n",
    "            sens[idx] = sen\n",
    "            idx += 1\n",
    "        if len(sens) == 3:\n",
    "            break\n",
    "        print()\n",
    "    clear_output()    \n",
    "    return sens\n",
    "    \n",
    "def ask_for_choice(word):\n",
    "    print(f'The word is {word}. Please enter 3 other words:\\n')\n",
    "    word1 = input('Word 1: ')\n",
    "    word2 = input('Word 2: ')\n",
    "    word3 = input('Word 3: ')\n",
    "    choices = [word,word1,word2,word3]\n",
    "    random.Random(2022).shuffle(choices)\n",
    "    clear_output()\n",
    "    return choices"
   ]
  },
  {
   "cell_type": "code",
   "execution_count": 106,
   "metadata": {},
   "outputs": [
    {
     "name": "stdout",
     "output_type": "stream",
     "text": [
      "--------\n",
      "Current word: entomology\n",
      "The entomology of the island, however, is very rich, particularly in respect of Lepidoptera.\n"
     ]
    },
    {
     "ename": "KeyboardInterrupt",
     "evalue": "Interrupted by user",
     "output_type": "error",
     "traceback": [
      "\u001b[0;31m---------------------------------------------------------------------------\u001b[0m",
      "\u001b[0;31mKeyboardInterrupt\u001b[0m                         Traceback (most recent call last)",
      "\u001b[0;32m<ipython-input-106-9129bed8d9e9>\u001b[0m in \u001b[0;36m<module>\u001b[0;34m\u001b[0m\n\u001b[0;32m----> 1\u001b[0;31m \u001b[0mdataset\u001b[0m \u001b[0;34m=\u001b[0m \u001b[0mbuild_dataset\u001b[0m\u001b[0;34m(\u001b[0m\u001b[0mdata\u001b[0m\u001b[0;34m)\u001b[0m\u001b[0;34m\u001b[0m\u001b[0;34m\u001b[0m\u001b[0m\n\u001b[0m\u001b[1;32m      2\u001b[0m \u001b[0mjson\u001b[0m\u001b[0;34m.\u001b[0m\u001b[0mdumps\u001b[0m\u001b[0;34m(\u001b[0m\u001b[0mdataset\u001b[0m\u001b[0;34m,\u001b[0m\u001b[0mindent\u001b[0m \u001b[0;34m=\u001b[0m \u001b[0;36m4\u001b[0m\u001b[0;34m)\u001b[0m\u001b[0;34m\u001b[0m\u001b[0;34m\u001b[0m\u001b[0m\n",
      "\u001b[0;32m<ipython-input-105-b915a2c8453f>\u001b[0m in \u001b[0;36mbuild_dataset\u001b[0;34m(words, url, length)\u001b[0m\n\u001b[1;32m      2\u001b[0m     \u001b[0mdataset_dict\u001b[0m \u001b[0;34m=\u001b[0m \u001b[0;34m{\u001b[0m\u001b[0;34m}\u001b[0m\u001b[0;34m\u001b[0m\u001b[0;34m\u001b[0m\u001b[0m\n\u001b[1;32m      3\u001b[0m     \u001b[0;32mfor\u001b[0m \u001b[0mword\u001b[0m \u001b[0;32min\u001b[0m \u001b[0mwords\u001b[0m\u001b[0;34m[\u001b[0m\u001b[0;36m0\u001b[0m\u001b[0;34m]\u001b[0m\u001b[0;34m:\u001b[0m\u001b[0;34m\u001b[0m\u001b[0;34m\u001b[0m\u001b[0m\n\u001b[0;32m----> 4\u001b[0;31m         \u001b[0msentences\u001b[0m \u001b[0;34m=\u001b[0m \u001b[0mread_sentence\u001b[0m\u001b[0;34m(\u001b[0m\u001b[0mword\u001b[0m\u001b[0;34m)\u001b[0m\u001b[0;34m\u001b[0m\u001b[0;34m\u001b[0m\u001b[0m\n\u001b[0m\u001b[1;32m      5\u001b[0m         \u001b[0;32mif\u001b[0m \u001b[0mlen\u001b[0m\u001b[0;34m(\u001b[0m\u001b[0msentences\u001b[0m\u001b[0;34m)\u001b[0m \u001b[0;34m==\u001b[0m \u001b[0;36m0\u001b[0m\u001b[0;34m:\u001b[0m\u001b[0;34m\u001b[0m\u001b[0;34m\u001b[0m\u001b[0m\n\u001b[1;32m      6\u001b[0m             \u001b[0;32mcontinue\u001b[0m\u001b[0;34m\u001b[0m\u001b[0;34m\u001b[0m\u001b[0m\n",
      "\u001b[0;32m<ipython-input-105-b915a2c8453f>\u001b[0m in \u001b[0;36mread_sentence\u001b[0;34m(word, url)\u001b[0m\n\u001b[1;32m     23\u001b[0m         \u001b[0msen\u001b[0m \u001b[0;34m=\u001b[0m \u001b[0mstr\u001b[0m\u001b[0;34m(\u001b[0m\u001b[0msen\u001b[0m\u001b[0;34m)\u001b[0m\u001b[0;34m.\u001b[0m\u001b[0msplit\u001b[0m\u001b[0;34m(\u001b[0m\u001b[0;34m'\"\">'\u001b[0m\u001b[0;34m)\u001b[0m\u001b[0;34m[\u001b[0m\u001b[0;36m1\u001b[0m\u001b[0;34m]\u001b[0m\u001b[0;34m.\u001b[0m\u001b[0msplit\u001b[0m\u001b[0;34m(\u001b[0m\u001b[0;34m'</span>'\u001b[0m\u001b[0;34m)\u001b[0m\u001b[0;34m[\u001b[0m\u001b[0;36m0\u001b[0m\u001b[0;34m]\u001b[0m\u001b[0;34m.\u001b[0m\u001b[0mreplace\u001b[0m\u001b[0;34m(\u001b[0m\u001b[0;34m'<mark>'\u001b[0m\u001b[0;34m,\u001b[0m\u001b[0;34m''\u001b[0m\u001b[0;34m)\u001b[0m\u001b[0;34m.\u001b[0m\u001b[0mreplace\u001b[0m\u001b[0;34m(\u001b[0m\u001b[0;34m'</mark>'\u001b[0m\u001b[0;34m,\u001b[0m\u001b[0;34m''\u001b[0m\u001b[0;34m)\u001b[0m\u001b[0;34m\u001b[0m\u001b[0;34m\u001b[0m\u001b[0m\n\u001b[1;32m     24\u001b[0m         \u001b[0mprint\u001b[0m\u001b[0;34m(\u001b[0m\u001b[0msen\u001b[0m\u001b[0;34m)\u001b[0m\u001b[0;34m\u001b[0m\u001b[0;34m\u001b[0m\u001b[0m\n\u001b[0;32m---> 25\u001b[0;31m         \u001b[0mpassed\u001b[0m \u001b[0;34m=\u001b[0m \u001b[0minput\u001b[0m\u001b[0;34m(\u001b[0m\u001b[0;34m'Do you want to use this sentence? Type y or n: '\u001b[0m\u001b[0;34m)\u001b[0m\u001b[0;34m\u001b[0m\u001b[0;34m\u001b[0m\u001b[0m\n\u001b[0m\u001b[1;32m     26\u001b[0m         \u001b[0;32mif\u001b[0m \u001b[0mpassed\u001b[0m \u001b[0;34m==\u001b[0m \u001b[0;34m'y'\u001b[0m\u001b[0;34m:\u001b[0m\u001b[0;34m\u001b[0m\u001b[0;34m\u001b[0m\u001b[0m\n\u001b[1;32m     27\u001b[0m             \u001b[0msens\u001b[0m\u001b[0;34m[\u001b[0m\u001b[0midx\u001b[0m\u001b[0;34m]\u001b[0m \u001b[0;34m=\u001b[0m \u001b[0msen\u001b[0m\u001b[0;34m\u001b[0m\u001b[0;34m\u001b[0m\u001b[0m\n",
      "\u001b[0;32m/opt/anaconda3/lib/python3.8/site-packages/ipykernel/kernelbase.py\u001b[0m in \u001b[0;36mraw_input\u001b[0;34m(self, prompt)\u001b[0m\n\u001b[1;32m    858\u001b[0m                 \u001b[0;34m\"raw_input was called, but this frontend does not support input requests.\"\u001b[0m\u001b[0;34m\u001b[0m\u001b[0;34m\u001b[0m\u001b[0m\n\u001b[1;32m    859\u001b[0m             )\n\u001b[0;32m--> 860\u001b[0;31m         return self._input_request(str(prompt),\n\u001b[0m\u001b[1;32m    861\u001b[0m             \u001b[0mself\u001b[0m\u001b[0;34m.\u001b[0m\u001b[0m_parent_ident\u001b[0m\u001b[0;34m,\u001b[0m\u001b[0;34m\u001b[0m\u001b[0;34m\u001b[0m\u001b[0m\n\u001b[1;32m    862\u001b[0m             \u001b[0mself\u001b[0m\u001b[0;34m.\u001b[0m\u001b[0m_parent_header\u001b[0m\u001b[0;34m,\u001b[0m\u001b[0;34m\u001b[0m\u001b[0;34m\u001b[0m\u001b[0m\n",
      "\u001b[0;32m/opt/anaconda3/lib/python3.8/site-packages/ipykernel/kernelbase.py\u001b[0m in \u001b[0;36m_input_request\u001b[0;34m(self, prompt, ident, parent, password)\u001b[0m\n\u001b[1;32m    902\u001b[0m             \u001b[0;32mexcept\u001b[0m \u001b[0mKeyboardInterrupt\u001b[0m\u001b[0;34m:\u001b[0m\u001b[0;34m\u001b[0m\u001b[0;34m\u001b[0m\u001b[0m\n\u001b[1;32m    903\u001b[0m                 \u001b[0;31m# re-raise KeyboardInterrupt, to truncate traceback\u001b[0m\u001b[0;34m\u001b[0m\u001b[0;34m\u001b[0m\u001b[0;34m\u001b[0m\u001b[0m\n\u001b[0;32m--> 904\u001b[0;31m                 \u001b[0;32mraise\u001b[0m \u001b[0mKeyboardInterrupt\u001b[0m\u001b[0;34m(\u001b[0m\u001b[0;34m\"Interrupted by user\"\u001b[0m\u001b[0;34m)\u001b[0m \u001b[0;32mfrom\u001b[0m \u001b[0;32mNone\u001b[0m\u001b[0;34m\u001b[0m\u001b[0;34m\u001b[0m\u001b[0m\n\u001b[0m\u001b[1;32m    905\u001b[0m             \u001b[0;32mexcept\u001b[0m \u001b[0mException\u001b[0m \u001b[0;32mas\u001b[0m \u001b[0me\u001b[0m\u001b[0;34m:\u001b[0m\u001b[0;34m\u001b[0m\u001b[0;34m\u001b[0m\u001b[0m\n\u001b[1;32m    906\u001b[0m                 \u001b[0mself\u001b[0m\u001b[0;34m.\u001b[0m\u001b[0mlog\u001b[0m\u001b[0;34m.\u001b[0m\u001b[0mwarning\u001b[0m\u001b[0;34m(\u001b[0m\u001b[0;34m\"Invalid Message:\"\u001b[0m\u001b[0;34m,\u001b[0m \u001b[0mexc_info\u001b[0m\u001b[0;34m=\u001b[0m\u001b[0;32mTrue\u001b[0m\u001b[0;34m)\u001b[0m\u001b[0;34m\u001b[0m\u001b[0;34m\u001b[0m\u001b[0m\n",
      "\u001b[0;31mKeyboardInterrupt\u001b[0m: Interrupted by user"
     ]
    }
   ],
   "source": [
    "main()"
   ]
  },
  {
   "cell_type": "code",
   "execution_count": null,
   "metadata": {},
   "outputs": [],
   "source": []
  }
 ],
 "metadata": {
  "kernelspec": {
   "display_name": "Python 3",
   "language": "python",
   "name": "python3"
  },
  "language_info": {
   "codemirror_mode": {
    "name": "ipython",
    "version": 3
   },
   "file_extension": ".py",
   "mimetype": "text/x-python",
   "name": "python",
   "nbconvert_exporter": "python",
   "pygments_lexer": "ipython3",
   "version": "3.8.5"
  }
 },
 "nbformat": 4,
 "nbformat_minor": 4
}
